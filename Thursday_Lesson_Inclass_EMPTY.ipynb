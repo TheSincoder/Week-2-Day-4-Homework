{
 "cells": [
  {
   "cell_type": "markdown",
   "metadata": {},
   "source": [
    "# Object-Oriented-Programming (OOP)"
   ]
  },
  {
   "cell_type": "markdown",
   "metadata": {},
   "source": [
    "## Tasks Today:\n",
    "\n",
    "   \n",
    "\n",
    "1) <b>Creating a Class (Initializing/Declaring)</b> <br>\n",
    "2) <b>Using a Class (Instantiating)</b> <br>\n",
    " &nbsp;&nbsp;&nbsp;&nbsp; a) Creating One Instance <br>\n",
    " &nbsp;&nbsp;&nbsp;&nbsp; b) Creating Multiple Instances <br>\n",
    " &nbsp;&nbsp;&nbsp;&nbsp; c) In-Class Exercise #1 - Create a Class 'Car' and instantiate three different makes of cars <br>\n",
    "3) <b>The \\__init\\__() Method</b> <br>\n",
    " &nbsp;&nbsp;&nbsp;&nbsp; a) The 'self' Attribute <br>\n",
    "4) <b>Class Attributes</b> <br>\n",
    " &nbsp;&nbsp;&nbsp;&nbsp; a) Initializing Attributes <br>\n",
    " &nbsp;&nbsp;&nbsp;&nbsp; b) Setting an Attribute Outside of the \\__init\\__() Method <br>\n",
    " &nbsp;&nbsp;&nbsp;&nbsp; c) Setting Defaults for Attributes <br>\n",
    " &nbsp;&nbsp;&nbsp;&nbsp; d) Accessing Class Attributes <br>\n",
    " &nbsp;&nbsp;&nbsp;&nbsp; e) Changing Class Attributes <br>\n",
    " &nbsp;&nbsp;&nbsp;&nbsp; f) In-Class Exercise #2 - Add a color and wheels attribute to your 'Car' class <br>\n",
    "5) <b>Class Methods</b> <br>\n",
    " &nbsp;&nbsp;&nbsp;&nbsp; a) Creating <br>\n",
    " &nbsp;&nbsp;&nbsp;&nbsp; b) Calling <br>\n",
    " &nbsp;&nbsp;&nbsp;&nbsp; c) Modifying an Attribute's Value Through a Method <br>\n",
    " &nbsp;&nbsp;&nbsp;&nbsp; d) Incrementing an Attribute's Value Through a Method <br>\n",
    " &nbsp;&nbsp;&nbsp;&nbsp; e) In-Class Exercise #3 - Add a method that prints the cars color and wheel number, then call them <br>\n",
    "6) <b>Inheritance</b> <br>\n",
    " &nbsp;&nbsp;&nbsp;&nbsp; a) Syntax for Inheriting from a Parent Class <br>\n",
    " &nbsp;&nbsp;&nbsp;&nbsp; b) The \\__init\\__() Method for a Child Class (super()) <br>\n",
    " &nbsp;&nbsp;&nbsp;&nbsp; c) Defining Attributes and Methods for the Child Class <br>\n",
    " &nbsp;&nbsp;&nbsp;&nbsp; d) Method Overriding <br>\n",
    " &nbsp;&nbsp;&nbsp;&nbsp; e) In-Class Exercise #4 - Create a class 'Ford' that inherits from 'Car' class and initialize it as a Blue Ford Explorer with 4 wheels using the super() method <br>\n",
    "7) <b>Classes as Attributes</b> <br>\n",
    "8) <b>Exercises</b> <br>\n",
    " &nbsp;&nbsp;&nbsp;&nbsp; a) Exercise #1 - Turn the shopping cart program from yesterday into an object-oriented program <br>"
   ]
  },
  {
   "cell_type": "code",
   "execution_count": 1,
   "metadata": {},
   "outputs": [
    {
     "name": "stdout",
     "output_type": "stream",
     "text": [
      "playing soccer\n"
     ]
    }
   ],
   "source": [
    "alex = {\n",
    "    'name':'Alex',\n",
    "    'age':'old',\n",
    "    'weight':180,\n",
    "    'activity':'soccer'\n",
    "}\n",
    "\n",
    "def do_activity(person):\n",
    "    if person['activity']=='football':\n",
    "        print(\"playing football\")\n",
    "    if person['activity']=='soccer':\n",
    "        print(\"playing soccer\")\n",
    "        \n",
    "do_activity(alex)\n",
    "# a class is a dictionary that does stuff"
   ]
  },
  {
   "cell_type": "code",
   "execution_count": 2,
   "metadata": {},
   "outputs": [],
   "source": [
    "# Circumfrance of a cirle\n"
   ]
  },
  {
   "cell_type": "markdown",
   "metadata": {},
   "source": [
    "## Creating a Class (Initializing/Declaring)\n",
    "<p>When creating a class, function, or even a variable you are initializing that object. Initializing and Declaring occur at the same time in Python, whereas in lower level languages you have to declare an object before initializing it. This is the first step in the process of using a class.</p>"
   ]
  },
  {
   "cell_type": "code",
   "execution_count": 3,
   "metadata": {},
   "outputs": [],
   "source": [
    "class Car(): #Pascal Case (first letter of each word capitilized no spaces)\n",
    "# can do class Car:\n",
    "    wheels = 4\n",
    "    color = \"blue\"\n",
    "    "
   ]
  },
  {
   "cell_type": "markdown",
   "metadata": {},
   "source": [
    "## Using a Class (Instantiating)\n",
    "<p>The process of creating a class is called <i>Instantiating</i>. Each time you create a variable of that type of class, it is referred to as an <i>Instance</i> of that class. This is the second step in the process of using a class.</p>"
   ]
  },
  {
   "cell_type": "markdown",
   "metadata": {},
   "source": [
    "##### Creating One Instance"
   ]
  },
  {
   "cell_type": "code",
   "execution_count": 4,
   "metadata": {},
   "outputs": [
    {
     "data": {
      "text/plain": [
       "<__main__.Car at 0x27f1bfb0070>"
      ]
     },
     "execution_count": 4,
     "metadata": {},
     "output_type": "execute_result"
    }
   ],
   "source": [
    "ford = Car()\n",
    "ford"
   ]
  },
  {
   "cell_type": "markdown",
   "metadata": {},
   "source": [
    "##### Creating Multiple Instances"
   ]
  },
  {
   "cell_type": "code",
   "execution_count": 5,
   "metadata": {},
   "outputs": [
    {
     "name": "stdout",
     "output_type": "stream",
     "text": [
      "4\n",
      "blue\n",
      "4\n",
      "blue\n"
     ]
    }
   ],
   "source": [
    "chevy = Car()\n",
    "honda = Car()\n",
    "porsche = Car()\n",
    "audi = Car()\n",
    "\n",
    "print(ford.wheels)\n",
    "print(audi.color)\n",
    "print(chevy.wheels)\n",
    "print(porsche.color)"
   ]
  },
  {
   "cell_type": "markdown",
   "metadata": {},
   "source": [
    "##### In-Class Exercise #1 - Create a Class 'Car' and Instantiate three different makes of cars"
   ]
  },
  {
   "cell_type": "code",
   "execution_count": 6,
   "metadata": {},
   "outputs": [
    {
     "name": "stdout",
     "output_type": "stream",
     "text": [
      "moonroof\n",
      "4\n",
      "2\n"
     ]
    }
   ],
   "source": [
    "# doors, color, sunroof, wheels ... istantiate three different makes of cars\n",
    "\n",
    "class Cars():\n",
    "    doors = 2\n",
    "    color = 'black'\n",
    "    wheels = 4\n",
    "    sunroof = 'moonroof'\n",
    "    \n",
    "audi = Cars()\n",
    "range_rover = Cars()\n",
    "genesis = Cars()\n",
    "\n",
    "print(audi.sunroof)\n",
    "print(range_rover.wheels)\n",
    "print(genesis.doors)"
   ]
  },
  {
   "cell_type": "markdown",
   "metadata": {},
   "source": [
    "## The \\__init\\__() Method <br>\n",
    "<p>This method is used in almost every created class, and called only once upon the creation of the class instance. This method will initialize all variables needed for the object.</p>"
   ]
  },
  {
   "cell_type": "code",
   "execution_count": 7,
   "metadata": {},
   "outputs": [
    {
     "ename": "NameError",
     "evalue": "name 'color' is not defined",
     "output_type": "error",
     "traceback": [
      "\u001b[1;31m---------------------------------------------------------------------------\u001b[0m",
      "\u001b[1;31mNameError\u001b[0m                                 Traceback (most recent call last)",
      "\u001b[1;32m~\\AppData\\Local\\Temp/ipykernel_57772/1973065771.py\u001b[0m in \u001b[0;36m<module>\u001b[1;34m\u001b[0m\n\u001b[0;32m      7\u001b[0m         \u001b[0mself\u001b[0m\u001b[1;33m.\u001b[0m\u001b[0mcolor\u001b[0m \u001b[1;33m=\u001b[0m \u001b[0mcolor\u001b[0m\u001b[1;33m\u001b[0m\u001b[1;33m\u001b[0m\u001b[0m\n\u001b[0;32m      8\u001b[0m \u001b[1;33m\u001b[0m\u001b[0m\n\u001b[1;32m----> 9\u001b[1;33m \u001b[0mford\u001b[0m \u001b[1;33m=\u001b[0m \u001b[0mCar\u001b[0m\u001b[1;33m(\u001b[0m\u001b[1;36m4\u001b[0m\u001b[1;33m)\u001b[0m\u001b[1;33m\u001b[0m\u001b[1;33m\u001b[0m\u001b[0m\n\u001b[0m\u001b[0;32m     10\u001b[0m \u001b[0mtrike\u001b[0m \u001b[1;33m=\u001b[0m \u001b[0mCar\u001b[0m\u001b[1;33m(\u001b[0m\u001b[1;36m3\u001b[0m\u001b[1;33m)\u001b[0m\u001b[1;33m\u001b[0m\u001b[1;33m\u001b[0m\u001b[0m\n\u001b[0;32m     11\u001b[0m \u001b[0mCar\u001b[0m\u001b[1;33m.\u001b[0m\u001b[0mengine\u001b[0m\u001b[1;33m\u001b[0m\u001b[1;33m\u001b[0m\u001b[0m\n",
      "\u001b[1;32m~\\AppData\\Local\\Temp/ipykernel_57772/1973065771.py\u001b[0m in \u001b[0;36m__init__\u001b[1;34m(self, num_of_wheels)\u001b[0m\n\u001b[0;32m      5\u001b[0m     \u001b[1;32mdef\u001b[0m \u001b[0m__init__\u001b[0m\u001b[1;33m(\u001b[0m\u001b[0mself\u001b[0m\u001b[1;33m,\u001b[0m \u001b[0mnum_of_wheels\u001b[0m\u001b[1;33m)\u001b[0m\u001b[1;33m:\u001b[0m\u001b[1;33m\u001b[0m\u001b[1;33m\u001b[0m\u001b[0m\n\u001b[0;32m      6\u001b[0m         \u001b[0mself\u001b[0m\u001b[1;33m.\u001b[0m\u001b[0mwheels\u001b[0m \u001b[1;33m=\u001b[0m \u001b[0mnum_of_wheels\u001b[0m \u001b[1;31m# instance attribute\u001b[0m\u001b[1;33m\u001b[0m\u001b[1;33m\u001b[0m\u001b[0m\n\u001b[1;32m----> 7\u001b[1;33m         \u001b[0mself\u001b[0m\u001b[1;33m.\u001b[0m\u001b[0mcolor\u001b[0m \u001b[1;33m=\u001b[0m \u001b[0mcolor\u001b[0m\u001b[1;33m\u001b[0m\u001b[1;33m\u001b[0m\u001b[0m\n\u001b[0m\u001b[0;32m      8\u001b[0m \u001b[1;33m\u001b[0m\u001b[0m\n\u001b[0;32m      9\u001b[0m \u001b[0mford\u001b[0m \u001b[1;33m=\u001b[0m \u001b[0mCar\u001b[0m\u001b[1;33m(\u001b[0m\u001b[1;36m4\u001b[0m\u001b[1;33m)\u001b[0m\u001b[1;33m\u001b[0m\u001b[1;33m\u001b[0m\u001b[0m\n",
      "\u001b[1;31mNameError\u001b[0m: name 'color' is not defined"
     ]
    }
   ],
   "source": [
    "class Car():\n",
    "    engine = \"4.7L\" # Class Attribute\n",
    "    \n",
    "    # Constructor\n",
    "    def __init__(self, num_of_wheels):\n",
    "        self.wheels = num_of_wheels # instance attribute\n",
    "        self.color = color\n",
    "\n",
    "ford = Car(4)\n",
    "trike = Car(3)\n",
    "Car.engine\n",
    "my_cars=[ford, trike]\n",
    "for car in my_cars:\n",
    "    print(my_cars)"
   ]
  },
  {
   "cell_type": "markdown",
   "metadata": {},
   "source": [
    "##### The 'self' Attribute <br>\n",
    "<p>This attribute is required to keep track of specific instance's attributes. Without the self attribute, the program would not know how to reference or keep track of an instance's attributes.</p>"
   ]
  },
  {
   "cell_type": "code",
   "execution_count": null,
   "metadata": {},
   "outputs": [],
   "source": [
    "# see above"
   ]
  },
  {
   "cell_type": "markdown",
   "metadata": {},
   "source": [
    "## Class Attributes <br>\n",
    "<p>While variables are inside of a class, they are referred to as attributes and not variables. When someone says 'attribute' you know they're speaking about a class. Attributes can be initialized through the init method, or outside of it.</p>"
   ]
  },
  {
   "cell_type": "markdown",
   "metadata": {},
   "source": [
    "##### Initializing Attributes"
   ]
  },
  {
   "cell_type": "code",
   "execution_count": null,
   "metadata": {},
   "outputs": [],
   "source": [
    "# see above"
   ]
  },
  {
   "cell_type": "markdown",
   "metadata": {},
   "source": [
    "##### Accessing Class Attributes"
   ]
  },
  {
   "cell_type": "code",
   "execution_count": null,
   "metadata": {
    "scrolled": true
   },
   "outputs": [],
   "source": [
    "# See Above"
   ]
  },
  {
   "cell_type": "markdown",
   "metadata": {},
   "source": [
    "##### Setting Defaults for Attributes"
   ]
  },
  {
   "cell_type": "code",
   "execution_count": null,
   "metadata": {},
   "outputs": [],
   "source": [
    "# See Above"
   ]
  },
  {
   "cell_type": "markdown",
   "metadata": {},
   "source": [
    "##### Changing Class Attributes <br>\n",
    "<p>Keep in mind there are global class attributes and then there are attributes only available to each class instance which won't effect other classes.</p>"
   ]
  },
  {
   "cell_type": "code",
   "execution_count": null,
   "metadata": {},
   "outputs": [],
   "source": [
    "Car.engine = \"2.0L\"\n",
    "print(Car.engine)\n",
    "ford.engine\n",
    "Car.engine = \"4.7L\"\n",
    "print(Car.engine)"
   ]
  },
  {
   "cell_type": "code",
   "execution_count": null,
   "metadata": {},
   "outputs": [],
   "source": [
    "ford.engine= \"2.0L\"\n",
    "print(ford.engine)\n",
    "print(Car.engine)"
   ]
  },
  {
   "cell_type": "markdown",
   "metadata": {},
   "source": [
    "##### In-Class Exercise #2 - Add a doors and seats attribute to your 'Car' class then print out two different instances with different doors and seats"
   ]
  },
  {
   "cell_type": "code",
   "execution_count": null,
   "metadata": {},
   "outputs": [],
   "source": [
    "from IPython.display import clear_output #This module will clear all pre-exising output form your program\n",
    "clear_output()\n",
    "\n",
    "class Car2():\n",
    "    \n",
    "    \n",
    "    # Constructor\n",
    "    def __init__(self, doors, seats):\n",
    "        self.doors = doors # instance attribute\n",
    "        self.seats = seats\n",
    "        \n",
    "audi = Car2(2,5)\n",
    "vw = Car2(4,5)\n",
    "        \n",
    "\n",
    "\n",
    "print(f'Audi has {audi.seats} seats and has {audi.doors} doors.')\n",
    "print(f'Volkswagon has {vw.seats} seats and has {vw.doors} doors.')"
   ]
  },
  {
   "cell_type": "markdown",
   "metadata": {},
   "source": [
    "## Instance Methods <br>\n",
    "<p>While inside of a class, functions are referred to as 'methods'. If you hear someone mention methods, they're speaking about classes. Methods are essentially functions, but only callable on the instances of a class.</p>"
   ]
  },
  {
   "cell_type": "markdown",
   "metadata": {},
   "source": [
    "##### Creating"
   ]
  },
  {
   "cell_type": "code",
   "execution_count": null,
   "metadata": {},
   "outputs": [],
   "source": [
    "class Car3():\n",
    "    \n",
    "    def __init__(self, wheels, color, seats):\n",
    "        self.wheels = wheels\n",
    "        self.color = color\n",
    "        self.seats = seats\n",
    "        \n",
    "    def drive(self):\n",
    "        print(\"VRRROOOOOOOOOOMMM!!!\")\n",
    "    \n",
    "    def set_color(self, new_color):\n",
    "        self.color = new_color\n",
    "        \n",
    "    def describe(self):\n",
    "        print(f\"the car is {self.color} with {self.seats} seats and {self.wheels} wheels\")\n",
    "        \n",
    "    def add_seats(self):\n",
    "        self.seats += 1"
   ]
  },
  {
   "cell_type": "code",
   "execution_count": null,
   "metadata": {},
   "outputs": [],
   "source": [
    "chevy = Car3(4, \"red\", 8)\n",
    "chevy.drive()\n",
    "chevy.describe()\n",
    "chevy.set_color(\"green\")\n",
    "chevy.describe()\n",
    "chevy.add_seats()\n",
    "chevy.describe()"
   ]
  },
  {
   "cell_type": "code",
   "execution_count": null,
   "metadata": {},
   "outputs": [],
   "source": [
    "Car3.drive(chevy) # We Dont' really do this"
   ]
  },
  {
   "cell_type": "markdown",
   "metadata": {},
   "source": [
    "##### Calling"
   ]
  },
  {
   "cell_type": "code",
   "execution_count": null,
   "metadata": {},
   "outputs": [],
   "source": [
    "# See Above"
   ]
  },
  {
   "cell_type": "markdown",
   "metadata": {},
   "source": [
    "##### Modifying an Attribute's Value Through a Method"
   ]
  },
  {
   "cell_type": "code",
   "execution_count": null,
   "metadata": {},
   "outputs": [],
   "source": []
  },
  {
   "cell_type": "markdown",
   "metadata": {},
   "source": [
    "##### Incrementing an Attribute's Value Through a Method"
   ]
  },
  {
   "cell_type": "code",
   "execution_count": null,
   "metadata": {},
   "outputs": [],
   "source": []
  },
  {
   "cell_type": "markdown",
   "metadata": {},
   "source": [
    "##### In-Class Exercise #3 - Add a method that takes in three parameters of year, doors and seats and prints out a formatted print statement with make, model, year, seats, and doors"
   ]
  },
  {
   "cell_type": "code",
   "execution_count": 29,
   "metadata": {},
   "outputs": [
    {
     "name": "stdout",
     "output_type": "stream",
     "text": [
      "the car is from 2018 and is a Audi Q7 and has 4 doors and 7 seats.\n",
      "Audi Q7 is better than Ford Ranger\n",
      "Ford Ranger is older than Audi Q7\n"
     ]
    }
   ],
   "source": [
    "# Create class with 2 paramters inside of the __init__ which are make and model\n",
    "\n",
    "# Inside of the Car class create a method that has 4 parameter in total (self,year,door,seats)\n",
    "\n",
    "# Output: This car is from 2019 and is a Ford Expolorer and has 4 doors and 5 seats\n",
    "\n",
    "class Vehicle():\n",
    "    \n",
    "    def __init__(self, make, model):\n",
    "        self.make = make\n",
    "        self.model = model\n",
    "        \n",
    "    def more_info(self, year, door, seats):\n",
    "        self.year = year\n",
    "        self.door = door\n",
    "        self.seats = seats\n",
    "    \n",
    "            \n",
    "    def describe(self):\n",
    "        print(f\"the car is from {self.year} and is a {self.make} {self.model} and has {self.door} doors and {self.seats} seats.\")\n",
    "        \n",
    "    def which_is_better(self, car):\n",
    "        if self.door > car.door:\n",
    "            print(f'{self.make} {self.model} is better than {car.make} {car.model}')\n",
    "        else:\n",
    "            print(f'{car.make} {car.model} is better than {self.make} {self.model}')\n",
    "    #classmethod\n",
    "    @classmethod\n",
    "    def which_is_newer(cls, car1, car2):\n",
    "        if car1.year > car2.year:\n",
    "            print(f'{car1.make} {car1.model} is new than {car2.make} {car2.model}')\n",
    "        else:\n",
    "            print(f'{car1.make} {car1.model} is older than {car2.make} {car2.model}')\n",
    "                \n",
    "\n",
    "car = Vehicle('Audi', 'Q7')\n",
    "car.more_info(2018, 4, 7)\n",
    "car.describe()\n",
    "your_car = Vehicle('Ford', 'Ranger')\n",
    "your_car.more_info(1991, 2, 3)\n",
    "\n",
    "car.which_is_better(your_car)\n",
    "car.which_is_newer(your_car, car)"
   ]
  },
  {
   "cell_type": "code",
   "execution_count": 26,
   "metadata": {},
   "outputs": [
    {
     "name": "stdout",
     "output_type": "stream",
     "text": [
      "the car is from 2018 and is a audi Q7 and has 4 doors and 7 seats.\n",
      "audiQ7 is better than FordRanger\n"
     ]
    }
   ],
   "source": [
    "car = Vehicle('Audi', 'Q7')\n",
    "car.more_info(2018, 4, 7)\n",
    "car.describe()\n",
    "your_car = Vehicle('Ford', 'Ranger')\n",
    "your_car.more_info(1991, 2, 3)\n",
    "\n",
    "car.which_is_better(your_car)"
   ]
  },
  {
   "cell_type": "markdown",
   "metadata": {},
   "source": [
    "## Inheritance <br>\n",
    "<p>You can create a child-parent relationship between two classes by using inheritance. What this allows you to do is have overriding methods, but also inherit traits from the parent class. Think of it as an actual parent and child, the child will inherit the parent's genes, as will the classes in OOP</p>"
   ]
  },
  {
   "cell_type": "markdown",
   "metadata": {},
   "source": [
    "##### Syntax for Inheriting from a Parent Class"
   ]
  },
  {
   "cell_type": "code",
   "execution_count": 33,
   "metadata": {
    "scrolled": true
   },
   "outputs": [
    {
     "name": "stdout",
     "output_type": "stream",
     "text": [
      "Some Genereic Animal Sound\n",
      "galloping\n",
      "the dog has 15 m/s and 9.8 m/s**2\n",
      "BARRRRKKK!!!!\n",
      "galloping\n",
      "Labradoodle\n",
      "True\n",
      "<class '__main__.Dog'>\n"
     ]
    }
   ],
   "source": [
    "class Animal():\n",
    "    acc = 9.8\n",
    "    def __init__(self, name, species, legs=4):\n",
    "        self.name = name\n",
    "        self.species = species\n",
    "        self.legs = legs\n",
    "        \n",
    "    def speak(self):\n",
    "        print(\"Some Genereic Animal Sound\")\n",
    "        \n",
    "    def run(self):\n",
    "        print(\"galloping\")\n",
    "        \n",
    "zebra = Animal('Zee', \"Zebra\")\n",
    "zebra.speak()\n",
    "zebra.run()\n",
    "\n",
    "class Dog(Animal):\n",
    "    speed = 15\n",
    "    def __init__(self, is_house_trained, name, species, legs = 4):\n",
    "        #super().__init__() inherets the class labled in the class Dog(x)\n",
    "        super().__init__(name, species, legs)\n",
    "        self.is_house_trained = is_house_trained\n",
    "        \n",
    "    def describe(self):\n",
    "        print(f'the dog has {self.speed} m/s and {self.acc} m/s**2')\n",
    "    # overrides the parent class    \n",
    "    def speak(self):\n",
    "        print(\"BARRRRKKK!!!!\")\n",
    "        \n",
    "ember = Dog(True, 'Ember', 'Labradoodle')\n",
    "ember.describe()\n",
    "ember.speak()\n",
    "ember.run()\n",
    "print(ember.species)\n",
    "print(ember.is_house_trained)\n",
    "print(type(ember))"
   ]
  },
  {
   "cell_type": "code",
   "execution_count": 35,
   "metadata": {},
   "outputs": [
    {
     "name": "stdout",
     "output_type": "stream",
     "text": [
      "True\n",
      "True\n",
      "True\n"
     ]
    }
   ],
   "source": [
    "print(isinstance(\"hey\", str))\n",
    "print(isinstance(ember, Dog))\n",
    "print(isinstance(ember, Animal))"
   ]
  },
  {
   "cell_type": "code",
   "execution_count": 40,
   "metadata": {},
   "outputs": [
    {
     "name": "stdout",
     "output_type": "stream",
     "text": [
      "the dog has 15 m/s and 9.8 m/s**2\n",
      "the mutt, Flurry, is a mix of Poodle and labradore\n",
      "BARRRRKKK!!!!\n",
      "galloping\n"
     ]
    }
   ],
   "source": [
    "class Mutt(Dog):\n",
    "    def __init__(self, second_species, is_house_trained, name, species, legs=4):\n",
    "        super().__init__(is_house_trained, name, species, legs)\n",
    "        self.second_species = second_species\n",
    "        \n",
    "    def describe(self):\n",
    "        print(f'the mutt, {self.name}, is a mix of {self.species} and {self.second_species}')\n",
    "              \n",
    "ember.describe()\n",
    "flurry = Mutt(\"labradore\", True, \"Flurry\", \"Poodle\")\n",
    "flurry.describe()\n",
    "flurry.speak()\n",
    "flurry.run()"
   ]
  },
  {
   "cell_type": "markdown",
   "metadata": {},
   "source": [
    "##### The \\__init\\__() Method for a Child Class - super()"
   ]
  },
  {
   "cell_type": "code",
   "execution_count": 46,
   "metadata": {
    "scrolled": true
   },
   "outputs": [
    {
     "name": "stdout",
     "output_type": "stream",
     "text": [
      "2022 Tesla 7.8 6 20\n",
      "recharging\n"
     ]
    }
   ],
   "source": [
    "class ElectricCar():\n",
    "    def __init__(self, year, make, a_battery):\n",
    "        self.year = year\n",
    "        self.make = make\n",
    "        self.battery = a_battery\n",
    "        \n",
    "    def describe(self):\n",
    "        print(self.year, self.make, self.battery.volts, self.battery.time, self.battery.cells)\n",
    "        \n",
    "class Battery():\n",
    "    volts = 7.8\n",
    "    def __init__(self,cells):\n",
    "        self.cells = cells\n",
    "        self.time = 6\n",
    "        self.var = \"my_battery\"\n",
    "        \n",
    "    def recharge(self):\n",
    "        print(\"recharging\")\n",
    "        \n",
    "        \n",
    "tesla = ElectricCar(2022, \"Tesla\", Battery(20))\n",
    "tesla.describe()\n",
    "tesla.battery.recharge()"
   ]
  },
  {
   "cell_type": "code",
   "execution_count": 48,
   "metadata": {
    "scrolled": true
   },
   "outputs": [
    {
     "name": "stdout",
     "output_type": "stream",
     "text": [
      "What do you want to do? Run or Rant or Quit? \n",
      "run\n",
      "Eryn says huff and puff Boy am I a fat slob\n",
      "What do you want to do? Run or Rant or Quit? \n",
      "rant\n",
      "Eryn says Epstien didn't kill himself!!\n",
      "What do you want to do? Run or Rant or Quit? \n",
      "quit\n"
     ]
    }
   ],
   "source": [
    "class UI():\n",
    "    def __init__(self, person):\n",
    "        self.person = person\n",
    "        \n",
    "    def run_program(self):\n",
    "        while True:\n",
    "            response = input(\"What do you want to do? Run or Rant or Quit? \\n\")\n",
    "            \n",
    "            if response.lower() == 'quit':\n",
    "                break\n",
    "            elif response.lower() == 'run':\n",
    "                self.person.run()\n",
    "            elif response.lower() == 'rant':\n",
    "                self.person.rant()\n",
    "                \n",
    "class Person():\n",
    "    def __init__(self, name, age):\n",
    "        self.name = name\n",
    "        self.age = age\n",
    "    def run(self):\n",
    "        print(f\"{self.name} says huff and puff Boy am I a fat slob\")\n",
    "        \n",
    "    def rant(self):\n",
    "        print(f\"{self.name} says Epstien didn't kill himself!!\")\n",
    "        \n",
    "eryn = Person(\"Eryn\", 21)\n",
    "ui = UI(eryn)\n",
    "ui.run_program()\n",
    "        "
   ]
  },
  {
   "cell_type": "code",
   "execution_count": 52,
   "metadata": {},
   "outputs": [
    {
     "name": "stdout",
     "output_type": "stream",
     "text": [
      "brushing\n",
      "Lt. Dan, you got no legs!\n"
     ]
    }
   ],
   "source": [
    "class FourLegs:\n",
    "    def run(cls):\n",
    "        print(\"run on 4 legs\")\n",
    "        \n",
    "class Furry:\n",
    "    def brush(self):\n",
    "        print(\"brushing\")\n",
    "    def run(self):\n",
    "        print(\"Lt. Dan, you got no legs!\")\n",
    "\n",
    "class Dog(Furry, FourLegs): # the first class will win in cases where methods are in both classes\n",
    "    def __init__(self):\n",
    "        super().__init__()\n",
    "        \n",
    "buster = Dog()\n",
    "buster.brush()\n",
    "buster.run() "
   ]
  },
  {
   "cell_type": "markdown",
   "metadata": {},
   "source": [
    "##### Defining Attributes and Methods for the Child Class"
   ]
  },
  {
   "cell_type": "code",
   "execution_count": null,
   "metadata": {},
   "outputs": [],
   "source": [
    "# See Above"
   ]
  },
  {
   "cell_type": "markdown",
   "metadata": {},
   "source": [
    "##### Method Overriding"
   ]
  },
  {
   "cell_type": "code",
   "execution_count": null,
   "metadata": {},
   "outputs": [],
   "source": [
    "# See Above"
   ]
  },
  {
   "cell_type": "markdown",
   "metadata": {},
   "source": [
    "## Classes as Attributes <br>\n",
    "<p>Classes can also be used as attributes within another class. This is useful in situations where you need to keep variables locally stored, instead of globally stored.</p>"
   ]
  },
  {
   "cell_type": "code",
   "execution_count": null,
   "metadata": {},
   "outputs": [],
   "source": []
  },
  {
   "cell_type": "markdown",
   "metadata": {},
   "source": [
    "# Exercises"
   ]
  },
  {
   "cell_type": "markdown",
   "metadata": {},
   "source": [
    "### Exercise 1 - Turn the shopping cart program from yesterday into an object-oriented program"
   ]
  },
  {
   "cell_type": "code",
   "execution_count": 87,
   "metadata": {},
   "outputs": [
    {
     "name": "stdout",
     "output_type": "stream",
     "text": [
      "ham was removed from your cart\n"
     ]
    },
    {
     "ename": "KeyboardInterrupt",
     "evalue": "Interrupted by user",
     "output_type": "error",
     "traceback": [
      "\u001b[1;31m---------------------------------------------------------------------------\u001b[0m",
      "\u001b[1;31mKeyboardInterrupt\u001b[0m                         Traceback (most recent call last)",
      "\u001b[1;32m~\\AppData\\Local\\Temp/ipykernel_57772/3241716485.py\u001b[0m in \u001b[0;36m<module>\u001b[1;34m\u001b[0m\n\u001b[0;32m     64\u001b[0m \u001b[1;31m# Driver Code\u001b[0m\u001b[1;33m\u001b[0m\u001b[1;33m\u001b[0m\u001b[0m\n\u001b[0;32m     65\u001b[0m \u001b[0mtest\u001b[0m \u001b[1;33m=\u001b[0m \u001b[0mCart\u001b[0m\u001b[1;33m(\u001b[0m\u001b[1;33m)\u001b[0m\u001b[1;33m\u001b[0m\u001b[1;33m\u001b[0m\u001b[0m\n\u001b[1;32m---> 66\u001b[1;33m \u001b[0mtest\u001b[0m\u001b[1;33m.\u001b[0m\u001b[0mshopping_cart\u001b[0m\u001b[1;33m(\u001b[0m\u001b[1;33m)\u001b[0m\u001b[1;33m\u001b[0m\u001b[1;33m\u001b[0m\u001b[0m\n\u001b[0m",
      "\u001b[1;32m~\\AppData\\Local\\Temp/ipykernel_57772/3241716485.py\u001b[0m in \u001b[0;36mshopping_cart\u001b[1;34m(self)\u001b[0m\n\u001b[0;32m     44\u001b[0m     \u001b[1;32mdef\u001b[0m \u001b[0mshopping_cart\u001b[0m\u001b[1;33m(\u001b[0m\u001b[0mself\u001b[0m\u001b[1;33m)\u001b[0m\u001b[1;33m:\u001b[0m\u001b[1;33m\u001b[0m\u001b[1;33m\u001b[0m\u001b[0m\n\u001b[0;32m     45\u001b[0m         \u001b[1;32mwhile\u001b[0m \u001b[1;32mTrue\u001b[0m\u001b[1;33m:\u001b[0m\u001b[1;33m\u001b[0m\u001b[1;33m\u001b[0m\u001b[0m\n\u001b[1;32m---> 46\u001b[1;33m             \u001b[0mresponse\u001b[0m \u001b[1;33m=\u001b[0m \u001b[0minput\u001b[0m\u001b[1;33m(\u001b[0m\u001b[1;34m\"What would you like to do? You can: quit/ add/ remove/ show or clear \\n Choose Only One \\n\"\u001b[0m\u001b[1;33m)\u001b[0m\u001b[1;33m\u001b[0m\u001b[1;33m\u001b[0m\u001b[0m\n\u001b[0m\u001b[0;32m     47\u001b[0m             \u001b[1;32mif\u001b[0m \u001b[0mresponse\u001b[0m\u001b[1;33m.\u001b[0m\u001b[0mlower\u001b[0m\u001b[1;33m(\u001b[0m\u001b[1;33m)\u001b[0m \u001b[1;33m==\u001b[0m \u001b[1;34m'quit'\u001b[0m\u001b[1;33m:\u001b[0m\u001b[1;33m\u001b[0m\u001b[1;33m\u001b[0m\u001b[0m\n\u001b[0;32m     48\u001b[0m                 \u001b[0mself\u001b[0m\u001b[1;33m.\u001b[0m\u001b[0mshow_cart\u001b[0m\u001b[1;33m(\u001b[0m\u001b[1;33m)\u001b[0m\u001b[1;33m\u001b[0m\u001b[1;33m\u001b[0m\u001b[0m\n",
      "\u001b[1;32m~\\anaconda3\\lib\\site-packages\\ipykernel\\kernelbase.py\u001b[0m in \u001b[0;36mraw_input\u001b[1;34m(self, prompt)\u001b[0m\n\u001b[0;32m   1004\u001b[0m                 \u001b[1;34m\"raw_input was called, but this frontend does not support input requests.\"\u001b[0m\u001b[1;33m\u001b[0m\u001b[1;33m\u001b[0m\u001b[0m\n\u001b[0;32m   1005\u001b[0m             )\n\u001b[1;32m-> 1006\u001b[1;33m         return self._input_request(\n\u001b[0m\u001b[0;32m   1007\u001b[0m             \u001b[0mstr\u001b[0m\u001b[1;33m(\u001b[0m\u001b[0mprompt\u001b[0m\u001b[1;33m)\u001b[0m\u001b[1;33m,\u001b[0m\u001b[1;33m\u001b[0m\u001b[1;33m\u001b[0m\u001b[0m\n\u001b[0;32m   1008\u001b[0m             \u001b[0mself\u001b[0m\u001b[1;33m.\u001b[0m\u001b[0m_parent_ident\u001b[0m\u001b[1;33m[\u001b[0m\u001b[1;34m\"shell\"\u001b[0m\u001b[1;33m]\u001b[0m\u001b[1;33m,\u001b[0m\u001b[1;33m\u001b[0m\u001b[1;33m\u001b[0m\u001b[0m\n",
      "\u001b[1;32m~\\anaconda3\\lib\\site-packages\\ipykernel\\kernelbase.py\u001b[0m in \u001b[0;36m_input_request\u001b[1;34m(self, prompt, ident, parent, password)\u001b[0m\n\u001b[0;32m   1049\u001b[0m             \u001b[1;32mexcept\u001b[0m \u001b[0mKeyboardInterrupt\u001b[0m\u001b[1;33m:\u001b[0m\u001b[1;33m\u001b[0m\u001b[1;33m\u001b[0m\u001b[0m\n\u001b[0;32m   1050\u001b[0m                 \u001b[1;31m# re-raise KeyboardInterrupt, to truncate traceback\u001b[0m\u001b[1;33m\u001b[0m\u001b[1;33m\u001b[0m\u001b[0m\n\u001b[1;32m-> 1051\u001b[1;33m                 \u001b[1;32mraise\u001b[0m \u001b[0mKeyboardInterrupt\u001b[0m\u001b[1;33m(\u001b[0m\u001b[1;34m\"Interrupted by user\"\u001b[0m\u001b[1;33m)\u001b[0m \u001b[1;32mfrom\u001b[0m \u001b[1;32mNone\u001b[0m\u001b[1;33m\u001b[0m\u001b[1;33m\u001b[0m\u001b[0m\n\u001b[0m\u001b[0;32m   1052\u001b[0m             \u001b[1;32mexcept\u001b[0m \u001b[0mException\u001b[0m\u001b[1;33m:\u001b[0m\u001b[1;33m\u001b[0m\u001b[1;33m\u001b[0m\u001b[0m\n\u001b[0;32m   1053\u001b[0m                 \u001b[0mself\u001b[0m\u001b[1;33m.\u001b[0m\u001b[0mlog\u001b[0m\u001b[1;33m.\u001b[0m\u001b[0mwarning\u001b[0m\u001b[1;33m(\u001b[0m\u001b[1;34m\"Invalid Message:\"\u001b[0m\u001b[1;33m,\u001b[0m \u001b[0mexc_info\u001b[0m\u001b[1;33m=\u001b[0m\u001b[1;32mTrue\u001b[0m\u001b[1;33m)\u001b[0m\u001b[1;33m\u001b[0m\u001b[1;33m\u001b[0m\u001b[0m\n",
      "\u001b[1;31mKeyboardInterrupt\u001b[0m: Interrupted by user"
     ]
    }
   ],
   "source": [
    "# Create a class called cart that retains items and has methods to add, remove, and show\n",
    "from IPython.display import clear_output #This module will clear all pre-exising output form your program\n",
    "\n",
    "cart = []\n",
    "\n",
    "class Cart():\n",
    "    \n",
    "    # Show, Add, Remove, Clear the Cart\n",
    "\n",
    "    \n",
    "    \n",
    "    def show_cart(self):\n",
    "        clear_output()\n",
    "        print(\"your Cart Contains:\")\n",
    "        for item in cart: \n",
    "            print(item)\n",
    "        if not cart:\n",
    "            print(\"Your cart is empty\")\n",
    "\n",
    "    def add_item(self, item):\n",
    "        clear_output()\n",
    "        self.item = item\n",
    "        cart.append(item)\n",
    "        print(f'{item} was added to your cart')\n",
    "\n",
    "    def remove_item(self, item):\n",
    "        clear_output() \n",
    "        self.item = item\n",
    "        if item in cart:\n",
    "            cart.remove(item)\n",
    "            print(f'{item} was removed from your cart')\n",
    "        else:\n",
    "            print(\"Item not in your cart\")\n",
    "           \n",
    "        \n",
    "\n",
    "    def clear_cart(self):\n",
    "        clear_output()\n",
    "        # could do cart = []\n",
    "        cart.clear()\n",
    "        print(\"Your cart is empty\")\n",
    "\n",
    "    # UI\n",
    "    def shopping_cart(self):\n",
    "        while True:\n",
    "            response = input(\"What would you like to do? You can: quit/ add/ remove/ show or clear \\n Choose Only One \\n\")\n",
    "            if response.lower() == 'quit':\n",
    "                self.show_cart()\n",
    "                print(\"Thanks for Shopping\")\n",
    "                break\n",
    "            elif response.lower() == 'add':\n",
    "                self.item = input(\"What would you like to add?\")\n",
    "                self.add_item(self.item)\n",
    "            elif response.lower() == 'remove':\n",
    "                self.item = input(\"What would you like to remove? \")\n",
    "                self.remove_item(self.item)\n",
    "            elif response.lower() == 'show':\n",
    "                self.show_cart()\n",
    "            elif response.lower() == 'clear':\n",
    "                self.clear_cart()\n",
    "            else:\n",
    "                print(\"Invalid Response: Please Try again\")\n",
    "        \n",
    "# Driver Code\n",
    "test = Cart()\n",
    "test.shopping_cart()"
   ]
  },
  {
   "cell_type": "markdown",
   "metadata": {},
   "source": [
    "### Exercise 2 - Write a Python class which has two methods get_String and print_String. get_String accept a string from the user and print_String print the string in upper case"
   ]
  },
  {
   "cell_type": "code",
   "execution_count": 77,
   "metadata": {},
   "outputs": [
    {
     "name": "stdout",
     "output_type": "stream",
     "text": [
      "What's on your mind? hui\n",
      "HUI\n"
     ]
    }
   ],
   "source": [
    "class PythonClass():\n",
    "    \n",
    "    def get_String(self):\n",
    "        self.response = input(\"What's on your mind? \")\n",
    "        \n",
    "    def print_String(self):\n",
    "        \n",
    "        print(f'{self.response.upper()}')\n",
    "        \n",
    "test = PythonClass()\n",
    "test.get_String()\n",
    "test.print_String()\n",
    "        \n",
    "        "
   ]
  },
  {
   "cell_type": "markdown",
   "metadata": {},
   "source": [
    "## Test for project"
   ]
  },
  {
   "cell_type": "code",
   "execution_count": 93,
   "metadata": {},
   "outputs": [
    {
     "name": "stdout",
     "output_type": "stream",
     "text": [
      "1\n"
     ]
    }
   ],
   "source": [
    "available = { \n",
    "        1:\"\",\n",
    "        2:\"\",\n",
    "        3:\"\",\n",
    "        4:\"\",\n",
    "        5:\"\",\n",
    "        6:\"\",\n",
    "        7:\"\",\n",
    "        8:\"\",\n",
    "        9:\"\",\n",
    "        10:\"\"\n",
    "}\n",
    "\n",
    "\n",
    "ticket = list(available)[0]\n",
    "            \n",
    "print(ticket)"
   ]
  },
  {
   "cell_type": "markdown",
   "metadata": {},
   "source": [
    "# Week 2 Project"
   ]
  },
  {
   "cell_type": "code",
   "execution_count": null,
   "metadata": {},
   "outputs": [],
   "source": [
    "# Create a parking garage class to give tickets upon entry and payment when leaving\n",
    "# limited parking spots (keep track of spaces)\n",
    "# different prices for different times - extra credit?\n",
    "# payment upon leaving (increases parking spaces left by 1)\n",
    "\n",
    "# create a dictionary of available parking spaces\n",
    "# create an empty dictionary of current parking tickets given out\n",
    "# if, elif, else loop for input options from user.\n",
    "# What are the functions we need? \n",
    "#   Give a ticket (add to the ticket dictionary and remove from the available dictionary)(decrease amount of tickets by 1)\n",
    "#   Show spaces left\n",
    "#   Pay upon leaving garage (remove from ticket dictionary and add to available dictionary) -change variable to 'paid'\n",
    "#   Leave parking garage that checks if they've paid [variable='paid'](print thank you message)\n",
    "#   Input loop function\n",
    "\n",
    "\n",
    "# dictionary of tickets available\n",
    "available = { \n",
    "        1:\"unpaid\",\n",
    "        2:\"unpaid\",\n",
    "        3:\"unpaid\",\n",
    "        4:\"unpaid\",\n",
    "        5:\"unpaid\",\n",
    "        6:\"unpaid\",\n",
    "        7:\"unpaid\",\n",
    "        8:\"unpaid\",\n",
    "        9:\"unpaid\",\n",
    "        10:\"unpaid\"\n",
    "}\n",
    "\n",
    "garage = {} # dictionary of spaces in the garage taken\n",
    "\n",
    "\n",
    "\n",
    "class Parking():\n",
    "    \n",
    "      # Define the inputs\n",
    "        # 1st: response = Take Ticket/Show/Pay/Leave\n",
    "        # 2nd: payment = to pay (i.e. press any key to pay)\n",
    "        # 3rd: Ticket Number = Input ticket number\n",
    "        # 4th: Show Ticket = Show ticket to leave\n",
    "\n",
    "    def show_spaces(self):\n",
    "        \n",
    "        print(\"Parking Spaces Left:\")\n",
    "        if available:\n",
    "            print(len(available))\n",
    "            \n",
    "        else:\n",
    "            print(\"Sorry! No Parking Spaces Available. \\n Please come back when parking is available!\")\n",
    "        # now have to assign variables 'spaces' and 'garage'\n",
    "\n",
    "    def take_ticket(self):\n",
    "        \n",
    "        \n",
    "        # give next ticket in line (range(len)) bullshit?        \n",
    "        #   remove ticket from available\n",
    "        #   add ticket to garage\n",
    "        #   subtract 1 from spaces\n",
    "        # access the first position in a list [0]\n",
    "        ticket = list(available)[0]\n",
    "        garage.update({ticket:available[ticket]})        \n",
    "        del available[ticket]\n",
    "        print(f'Your ticket is #{ticket}')\n",
    "        \n",
    "    def pay_ticket(self):\n",
    "        # input the ticket\n",
    "        \n",
    "        while True:\n",
    "            ticket_number_response = int(input(\"What is your ticket #?\\n '0' to quit\\n \"))\n",
    "            if ticket_number_response == 0:\n",
    "                break\n",
    "            elif ticket_number_response in garage.keys():\n",
    "                confirm = input(f'Your ticket # is {ticket_number_response} is that correct? Y/N ')\n",
    "                while True:\n",
    "                    if confirm.lower() == 'y':\n",
    "                        payment = input('Your total is $15\\nDebit or Credit?\\n')\n",
    "                        if payment.lower() == 'debit' or payment.lower() == 'credit':\n",
    "                            garage[ticket_number_response] = 'Paid'\n",
    "                            print(\"Thank you for your payment\")\n",
    "                            break\n",
    "                    elif confirm.lower() == 'n':\n",
    "                        break\n",
    "                    else:\n",
    "                        print(\"Invalid Response, Try Again\")\n",
    "            else:\n",
    "                print(\"Invalid Response, Try Again\")\n",
    "\n",
    "\n",
    "    def leave_garage(self):\n",
    "        \n",
    "        # this function needs to: check if paid, if paid leave a thank you message\n",
    "        # if paid remove ticket from garage and add to available\n",
    "        # if not paid, ask to pay\n",
    "            #if response = leave do what?\n",
    "        \n",
    "        while True:\n",
    "            show_ticket = int(input(\"Type '0' to quit\\nShow your ticket number: \"))\n",
    "            if show_ticket == 0: \n",
    "                break\n",
    "            elif garage.get(show_ticket) == 'Paid':\n",
    "                print(\"Thank you for Parking with Sinners Garage\\n Have a sinful day!\")\n",
    "                garage[show_ticket] = \"unpaid\"\n",
    "                available.update({int(show_ticket):garage[show_ticket]})\n",
    "                \n",
    "                del garage[show_ticket]\n",
    "                break\n",
    "            elif garage.get(show_ticket) == 'unpaid':\n",
    "                print(\"Please pay your ticket before leaving\")\n",
    "                \n",
    "                \n",
    "            else:\n",
    "                print(\"Invalid Response, Try Again\")\n",
    "                \n",
    "\n",
    "    # UI\n",
    "    def ui(self):\n",
    "        while True:\n",
    "            response = input(\"What would you like to do?\\n 'Show Spaces'/'Take Ticket'/'Pay Ticket'/'Leave'/'Quit'\\n\")\n",
    "            if response.lower() == 'quit':\n",
    "                print(\"Please visit Sinners Garage again!\")\n",
    "                break\n",
    "            elif response.lower() == 'show spaces':\n",
    "                self.show_spaces()\n",
    "            elif response.lower() == 'take ticket':\n",
    "                self.take_ticket()\n",
    "            elif response.lower() == 'pay ticket':\n",
    "                self.pay_ticket()\n",
    "            elif response.lower() == 'leave':\n",
    "                self.leave_garage()\n",
    "            else:\n",
    "                print(\"Invalid Response, Try Again\")\n",
    "\n",
    "        #     ticket = list(available)[0]\n",
    "        # garage.update({ticket:available[ticket]})        \n",
    "        # del available[ticket]\n",
    "\n",
    "\n",
    "\n",
    "run = Parking()\n",
    "run.ui()      \n",
    "      "
   ]
  }
 ],
 "metadata": {
  "kernelspec": {
   "display_name": "Python 3 (ipykernel)",
   "language": "python",
   "name": "python3"
  },
  "language_info": {
   "codemirror_mode": {
    "name": "ipython",
    "version": 3
   },
   "file_extension": ".py",
   "mimetype": "text/x-python",
   "name": "python",
   "nbconvert_exporter": "python",
   "pygments_lexer": "ipython3",
   "version": "3.9.7"
  }
 },
 "nbformat": 4,
 "nbformat_minor": 2
}
